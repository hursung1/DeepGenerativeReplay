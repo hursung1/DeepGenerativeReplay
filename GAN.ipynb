{
  "nbformat": 4,
  "nbformat_minor": 0,
  "metadata": {
    "colab": {
      "name": "GAN.ipynb",
      "provenance": [],
      "collapsed_sections": [],
      "authorship_tag": "ABX9TyNQ5eE5wLVV3rqvIBeopml+"
    },
    "kernelspec": {
      "name": "python3",
      "display_name": "Python 3"
    },
    "accelerator": "GPU"
  },
  "cells": [
    {
      "cell_type": "code",
      "metadata": {
        "id": "5n275EF6o2Cj",
        "colab_type": "code",
        "colab": {
          "base_uri": "https://localhost:8080/",
          "height": 283
        },
        "outputId": "556a4af3-cc0b-43da-cefd-a68c0306a15b"
      },
      "source": [
        "import torch\n",
        "import torchvision\n",
        "import matplotlib.pyplot as plt\n",
        "import numpy as np\n",
        "\n",
        "\n",
        "transform = torchvision.transforms.Compose([torchvision.transforms.ToTensor()])\n",
        "\n",
        "mnist_traindataset = torchvision.datasets.MNIST(root='./data', train=True, download=True, \n",
        "                                                                                transform=transform)\n",
        "mnist_testdataset = torchvision.datasets.MNIST(root='./data', train=False, download=True, \n",
        "                                                                                transform=transform)"
      ],
      "execution_count": 1,
      "outputs": [
        {
          "output_type": "stream",
          "text": [
            "\r0it [00:00, ?it/s]"
          ],
          "name": "stderr"
        },
        {
          "output_type": "stream",
          "text": [
            "Downloading http://yann.lecun.com/exdb/mnist/train-images-idx3-ubyte.gz to ./data/MNIST/raw/train-images-idx3-ubyte.gz\n"
          ],
          "name": "stdout"
        },
        {
          "output_type": "stream",
          "text": [
            "9920512it [00:01, 8682645.67it/s]                            \n"
          ],
          "name": "stderr"
        },
        {
          "output_type": "stream",
          "text": [
            "Extracting ./data/MNIST/raw/train-images-idx3-ubyte.gz to ./data/MNIST/raw\n"
          ],
          "name": "stdout"
        },
        {
          "output_type": "stream",
          "text": [
            "  0%|          | 0/28881 [00:00<?, ?it/s]"
          ],
          "name": "stderr"
        },
        {
          "output_type": "stream",
          "text": [
            "Downloading http://yann.lecun.com/exdb/mnist/train-labels-idx1-ubyte.gz to ./data/MNIST/raw/train-labels-idx1-ubyte.gz\n"
          ],
          "name": "stdout"
        },
        {
          "output_type": "stream",
          "text": [
            "32768it [00:00, 122323.01it/s]           \n",
            "  0%|          | 0/1648877 [00:00<?, ?it/s]"
          ],
          "name": "stderr"
        },
        {
          "output_type": "stream",
          "text": [
            "Extracting ./data/MNIST/raw/train-labels-idx1-ubyte.gz to ./data/MNIST/raw\n",
            "Downloading http://yann.lecun.com/exdb/mnist/t10k-images-idx3-ubyte.gz to ./data/MNIST/raw/t10k-images-idx3-ubyte.gz\n"
          ],
          "name": "stdout"
        },
        {
          "output_type": "stream",
          "text": [
            "1654784it [00:00, 2123682.24it/s]                            \n",
            "0it [00:00, ?it/s]"
          ],
          "name": "stderr"
        },
        {
          "output_type": "stream",
          "text": [
            "Extracting ./data/MNIST/raw/t10k-images-idx3-ubyte.gz to ./data/MNIST/raw\n",
            "Downloading http://yann.lecun.com/exdb/mnist/t10k-labels-idx1-ubyte.gz to ./data/MNIST/raw/t10k-labels-idx1-ubyte.gz\n"
          ],
          "name": "stdout"
        },
        {
          "output_type": "stream",
          "text": [
            "8192it [00:00, 49419.84it/s]            \n"
          ],
          "name": "stderr"
        },
        {
          "output_type": "stream",
          "text": [
            "Extracting ./data/MNIST/raw/t10k-labels-idx1-ubyte.gz to ./data/MNIST/raw\n",
            "Processing...\n",
            "Done!\n"
          ],
          "name": "stdout"
        }
      ]
    },
    {
      "cell_type": "code",
      "metadata": {
        "id": "5CTgNsuEglnV",
        "colab_type": "code",
        "colab": {}
      },
      "source": [
        "N_noise = batch_size = 128\n",
        "epochs = 200\n",
        "\n",
        "cuda_available = False\n",
        "if torch.cuda.is_available():\n",
        "    cuda_available = True"
      ],
      "execution_count": 0,
      "outputs": []
    },
    {
      "cell_type": "code",
      "metadata": {
        "id": "7jHbRVsmpRnM",
        "colab_type": "code",
        "colab": {}
      },
      "source": [
        "class Discriminator(torch.nn.Module):\n",
        "    def __init__(self, input_node_size, hidden_node_size, output_node_size):\n",
        "        \"\"\"\n",
        "        In case of P-MNIST\n",
        "        ==============\n",
        "        input_node_size: 784\n",
        "        hidden_node_size: 256\n",
        "        output_node_size: 1\n",
        "\n",
        "        other cases\n",
        "        ===============\n",
        "        \"\"\"\n",
        "        super(Discriminator, self).__init__()\n",
        "        fc1 = torch.nn.Linear(input_node_size, hidden_node_size)\n",
        "        fc2 = torch.nn.Linear(hidden_node_size, hidden_node_size)\n",
        "        fc3 = torch.nn.Linear(hidden_node_size, output_node_size)\n",
        "\n",
        "\n",
        "        self.network = torch.nn.Sequential(\n",
        "            fc1,\n",
        "            torch.nn.ReLU(),\n",
        "            fc2,\n",
        "            torch.nn.ReLU(),\n",
        "            fc3\n",
        "        )\n",
        "\n",
        "        if cuda_available:\n",
        "            self.network = self.network.cuda()\n",
        "\n",
        "    def forward(self, x):\n",
        "        return torch.sigmoid(self.network(x))\n",
        "    \n",
        "    \n",
        "class Generator(torch.nn.Module):\n",
        "    def __init__(self, input_node_size, hidden_node_size, output_node_size):\n",
        "        \"\"\"\n",
        "        In case of P-MNIST\n",
        "        ==========\n",
        "        input_node_size: N_noise\n",
        "        hidden_node_size: 256\n",
        "        output_node_size: 784\n",
        "\n",
        "        other cases\n",
        "        ===========\n",
        "        \"\"\"\n",
        "        super(Generator, self).__init__()\n",
        "        fc1 = torch.nn.Linear(input_node_size, hidden_node_size)\n",
        "        fc2 = torch.nn.Linear(hidden_node_size, hidden_node_size)\n",
        "        fc3 = torch.nn.Linear(hidden_node_size, output_node_size)\n",
        "\n",
        "        self.network = torch.nn.Sequential(\n",
        "            fc1,\n",
        "            torch.nn.ReLU(),\n",
        "            fc2,\n",
        "            torch.nn.ReLU(),\n",
        "            fc3\n",
        "        )\n",
        "\n",
        "        if cuda_available:\n",
        "            self.network = self.network.cuda()\n",
        "\n",
        "    def forward(self, x):\n",
        "        return torch.sigmoid(self.network(x))"
      ],
      "execution_count": 0,
      "outputs": []
    },
    {
      "cell_type": "code",
      "metadata": {
        "id": "iNF659txsfEq",
        "colab_type": "code",
        "colab": {}
      },
      "source": [
        "def GAN_training(dataloader, disc, gen, disc_optim, gen_optim):\n",
        "    running_loss = 0.0\n",
        "    for i, data in enumerate(dataloader):\n",
        "        x, y = data\n",
        "        x = x.view(-1, 784)\n",
        "        b_size = x.shape[0]\n",
        "        if cuda_available:\n",
        "            x = x.cuda()\n",
        "            y = y.cuda()\n",
        "\n",
        "        noise = torch.FloatTensor(b_size, N_noise).uniform_(-1, 1)\n",
        "        if cuda_available:\n",
        "            noise = noise.cuda()\n",
        "\n",
        "        # Learn Discriminator \n",
        "        gen_image = gen(noise)\n",
        "        log_original_image_scores = torch.log(disc(x)) + torch.log(1 - disc(gen_image))\n",
        "        \n",
        "        disc_loss = -torch.sum(log_original_image_scores) / b_size\n",
        "        disc_loss.backward()\n",
        "        disc_optim.step()\n",
        "        \n",
        "        # Learn Generator\n",
        "        gen_image = gen(noise)\n",
        "        log_gen_image_scores = torch.log(disc(gen_image))\n",
        "        \n",
        "        gen_loss = -torch.sum(log_gen_image_scores) / b_size\n",
        "        gen_loss.backward()\n",
        "        gen_optim.step()"
      ],
      "execution_count": 0,
      "outputs": []
    },
    {
      "cell_type": "code",
      "metadata": {
        "id": "ED8RpTmgdv7i",
        "colab_type": "code",
        "outputId": "e7f118fd-dc2f-412e-9fdd-ebff0ea63236",
        "colab": {
          "base_uri": "https://localhost:8080/",
          "height": 703
        }
      },
      "source": [
        "traindataloader = torch.utils.data.DataLoader(mnist_traindataset, batch_size=batch_size, shuffle=True)\n",
        "testdataloader = torch.utils.data.DataLoader(mnist_testdataset, batch_size=batch_size, shuffle=True)\n",
        "\n",
        "disc = Discriminator(784, 256, 1)\n",
        "gen = Generator(N_noise, 256, 784)\n",
        "disc_optim = torch.optim.Adam(disc.parameters())\n",
        "gen_optim = torch.optim.Adam(gen.parameters())\n",
        "\n",
        "for epoch in range(epochs):\n",
        "    GAN_training(traindataloader, disc, gen, disc_optim, gen_optim)\n",
        "    print(epoch)\n",
        "\n",
        "    if epoch % 10 == 9:\n",
        "        random_noise = torch.FloatTensor(25, N_noise).uniform_(-1, 1)\n",
        "        if cuda_available:\n",
        "            random_noise = random_noise.cuda()\n",
        "\n",
        "        generated = gen(random_noise)\n",
        "        fig, ax = plt.subplots(1, 25, figsize=(25, 1))\n",
        "        for i in range(25):\n",
        "            ax[i].set_axis_off()\n",
        "            ax[i].imshow(np.reshape(generated[i].cpu().detach().numpy().astype(int), (28, 28)))\n",
        "        plt.savefig('samples_ex/{}.png'.format(str(epoch).zfill(3), bbox_inches='tight'))\n",
        "        plt.close(fig)"
      ],
      "execution_count": 0,
      "outputs": [
        {
          "output_type": "stream",
          "text": [
            "0\n",
            "1\n",
            "2\n",
            "3\n",
            "4\n",
            "5\n",
            "6\n",
            "7\n",
            "8\n",
            "9\n",
            "10\n",
            "11\n",
            "12\n",
            "13\n",
            "14\n",
            "15\n",
            "16\n",
            "17\n",
            "18\n",
            "19\n",
            "20\n",
            "21\n",
            "22\n",
            "23\n",
            "24\n",
            "25\n",
            "26\n",
            "27\n",
            "28\n",
            "29\n",
            "30\n",
            "31\n",
            "32\n",
            "33\n",
            "34\n",
            "35\n",
            "36\n",
            "37\n",
            "38\n"
          ],
          "name": "stdout"
        }
      ]
    },
    {
      "cell_type": "code",
      "metadata": {
        "id": "o7941AmeeB-j",
        "colab_type": "code",
        "colab": {}
      },
      "source": [
        ""
      ],
      "execution_count": 0,
      "outputs": []
    }
  ]
}